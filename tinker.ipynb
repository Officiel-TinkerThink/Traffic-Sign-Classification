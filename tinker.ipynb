{
 "cells": [
  {
   "cell_type": "code",
   "execution_count": 10,
   "metadata": {},
   "outputs": [],
   "source": [
    "import os\n",
    "import cv2 as cv"
   ]
  },
  {
   "cell_type": "code",
   "execution_count": 16,
   "metadata": {},
   "outputs": [
    {
     "name": "stdout",
     "output_type": "stream",
     "text": [
      "(30, 30, 3)\n",
      "(30, 30, 3)\n",
      "(30, 30, 3)\n",
      "(30, 30, 3)\n",
      "(30, 30, 3)\n",
      "(30, 30, 3)\n",
      "(30, 30, 3)\n",
      "(30, 30, 3)\n",
      "(30, 30, 3)\n",
      "(30, 30, 3)\n",
      "(30, 30, 3)\n"
     ]
    }
   ],
   "source": [
    "root_dir = \"gtsrb\"\n",
    "\n",
    "IMG_WIDTH = 30\n",
    "IMG_HEIGHT = 30\n",
    "\n",
    "\n",
    "i = 0\n",
    "for label in sorted(os.listdir(root_dir)):\n",
    "    label_dir = os.path.join(root_dir, label)\n",
    "    \n",
    "    if os.path.exists(label_dir):\n",
    "        \n",
    "        for filename in os.listdir(label_dir):\n",
    "            file_path = os.path.join(label_dir, filename)\n",
    "\n",
    "            try:\n",
    "                img = cv.imread(file_path)\n",
    "                dimension = (IMG_WIDTH, IMG_HEIGHT)\n",
    "                resize_img = cv.resize(img, dimension, interpolation=cv.INTER_AREA)\n",
    "                print(resize_img.shape)\n",
    "                i += 1\n",
    "                break\n",
    "\n",
    "            except Exception as e:\n",
    "                print(f\"Error reading image {file_path}: {str(e)}\")\n",
    "                continue\n",
    "\n",
    "        if i > 10:\n",
    "            break\n",
    "    \n"
   ]
  },
  {
   "cell_type": "code",
   "execution_count": null,
   "metadata": {},
   "outputs": [],
   "source": []
  }
 ],
 "metadata": {
  "kernelspec": {
   "display_name": "base",
   "language": "python",
   "name": "python3"
  },
  "language_info": {
   "codemirror_mode": {
    "name": "ipython",
    "version": 3
   },
   "file_extension": ".py",
   "mimetype": "text/x-python",
   "name": "python",
   "nbconvert_exporter": "python",
   "pygments_lexer": "ipython3",
   "version": "3.11.7"
  }
 },
 "nbformat": 4,
 "nbformat_minor": 2
}
